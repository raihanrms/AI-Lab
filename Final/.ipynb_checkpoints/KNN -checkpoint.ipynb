{
 "cells": [
  {
   "cell_type": "code",
   "execution_count": 2,
   "id": "b86d58a7",
   "metadata": {},
   "outputs": [],
   "source": [
    "import numpy as np\n",
    "import matplotlib.pyplot as plt\n",
    "import pandas as pd\n",
    "import sys\n",
    "import sklearn\n",
    "import numpy as np\n",
    "import os"
   ]
  },
  {
   "cell_type": "code",
   "execution_count": 3,
   "id": "cb3d6b21",
   "metadata": {},
   "outputs": [],
   "source": [
    "# to make this notebook's output stable across runs\n",
    "np.random.seed(42)\n",
    "\n",
    "# To plot pretty figures\n",
    "import matplotlib as mpl\n",
    "import matplotlib.pyplot as plt\n",
    "mpl.rc('axes', labelsize=14)\n",
    "mpl.rc('xtick', labelsize=12)\n",
    "mpl.rc('ytick', labelsize=12)"
   ]
  },
  {
   "cell_type": "markdown",
   "id": "f87dd73e",
   "metadata": {},
   "source": [
    "#### X"
   ]
  },
  {
   "cell_type": "raw",
   "id": "ee822f09",
   "metadata": {},
   "source": [
    "XR = int(input(\"rows for X:\"))\n",
    "XC = int(input(\"columns for X:\"))\n",
    "\n",
    "X = []\n",
    "print(\"X: \")\n",
    "for i in range(XR):\n",
    "    a = []\n",
    "    for j in range(XC):\n",
    "        a.append(int(input()))\n",
    "    X.append(a)"
   ]
  },
  {
   "cell_type": "markdown",
   "id": "97954732",
   "metadata": {},
   "source": [
    "#### y"
   ]
  },
  {
   "cell_type": "raw",
   "id": "8d640fb6",
   "metadata": {},
   "source": [
    "YR = int(input(\"rows for y: \"))\n",
    "YC = int(input(\"columns for y: \"))\n",
    "\n",
    "y = []\n",
    "print(\"y: \")\n",
    "for i in range(YR):\n",
    "    b = []\n",
    "    for j in range(YC):\n",
    "        b.append(int(input()))\n",
    "    y.append(b)"
   ]
  },
  {
   "cell_type": "code",
   "execution_count": 4,
   "id": "79389557",
   "metadata": {},
   "outputs": [],
   "source": [
    "# for testing\n",
    "import numpy as np\n",
    "\n",
    "X = 3 * np.random.rand(30, 1)\n",
    "y = 4 + 2 * X + np.random.randn(30, 1)"
   ]
  },
  {
   "cell_type": "markdown",
   "id": "6c165e5f",
   "metadata": {},
   "source": [
    "#### Plot the graph"
   ]
  },
  {
   "cell_type": "code",
   "execution_count": 5,
   "id": "1311b175",
   "metadata": {},
   "outputs": [
    {
     "data": {
      "image/png": "[encoded data removed]",
      "text/plain": [
       "<Figure size 432x288 with 1 Axes>"
      ]
     },
     "metadata": {
      "needs_background": "light"
     },
     "output_type": "display_data"
    }
   ],
   "source": [
    "plt.plot(X, y, \"b.\")\n",
    "plt.xlabel(\"$x$\", fontsize=18)\n",
    "plt.ylabel(\"$y$\", rotation=0, fontsize=18)\n",
    "plt.axis([0, 2, 0, 10])\n",
    "plt.show()"
   ]
  },
  {
   "cell_type": "code",
   "execution_count": 6,
   "id": "42ec01e9",
   "metadata": {},
   "outputs": [],
   "source": [
    "X_b = np.c_[np.ones((30, 1)), X]  # add x0 = 1 to each instance\n",
    "theta_best = np.linalg.inv(X_b.T.dot(X_b)).dot(X_b.T).dot(y)"
   ]
  },
  {
   "cell_type": "code",
   "execution_count": 7,
   "id": "ad87f934",
   "metadata": {},
   "outputs": [
    {
     "data": {
      "text/plain": [
       "array([[4.42897128],\n",
       "       [1.53564034]])"
      ]
     },
     "execution_count": 7,
     "metadata": {},
     "output_type": "execute_result"
    }
   ],
   "source": [
    "theta_best"
   ]
  },
  {
   "cell_type": "code",
   "execution_count": 8,
   "id": "e3816ecb",
   "metadata": {},
   "outputs": [
    {
     "data": {
      "text/plain": [
       "array([[4.42897128],\n",
       "       [7.50025196]])"
      ]
     },
     "execution_count": 8,
     "metadata": {},
     "output_type": "execute_result"
    }
   ],
   "source": [
    "X_new = np.array([[0], [2]])\n",
    "X_new_b = np.c_[np.ones((2, 1)), X_new]  # add x0 = 1 to each instance\n",
    "y_predict = X_new_b.dot(theta_best)\n",
    "y_predict"
   ]
  },
  {
   "cell_type": "code",
   "execution_count": 9,
   "id": "5451a648",
   "metadata": {},
   "outputs": [
    {
     "data": {
      "image/png": "[encoded data removed]",
      "text/plain": [
       "<Figure size 432x288 with 1 Axes>"
      ]
     },
     "metadata": {
      "needs_background": "light"
     },
     "output_type": "display_data"
    }
   ],
   "source": [
    "plt.plot(X_new, y_predict, \"r-\", linewidth=2, label=\"Predictions\")\n",
    "plt.plot(X, y, \"b.\")\n",
    "plt.xlabel(\"$x$\", fontsize=18)\n",
    "plt.ylabel(\"$y$\", rotation=0, fontsize=18)\n",
    "plt.legend(loc=\"upper left\", fontsize=14)\n",
    "plt.axis([0, 2, 0, 10])\n",
    "plt.show()"
   ]
  },
  {
   "cell_type": "code",
   "execution_count": 10,
   "id": "a921bfff",
   "metadata": {},
   "outputs": [
    {
     "data": {
      "text/plain": [
       "(array([4.42897128]), array([[1.53564034]]))"
      ]
     },
     "execution_count": 10,
     "metadata": {},
     "output_type": "execute_result"
    }
   ],
   "source": [
    "from sklearn.linear_model import LinearRegression\n",
    "\n",
    "lin_reg = LinearRegression()\n",
    "lin_reg.fit(X, y)\n",
    "lin_reg.intercept_, lin_reg.coef_"
   ]
  },
  {
   "cell_type": "code",
   "execution_count": 11,
   "id": "c4363ab0",
   "metadata": {},
   "outputs": [
    {
     "data": {
      "text/plain": [
       "array([[4.42897128],\n",
       "       [7.50025196]])"
      ]
     },
     "execution_count": 11,
     "metadata": {},
     "output_type": "execute_result"
    }
   ],
   "source": [
    "lin_reg.predict(X_new)"
   ]
  },
  {
   "cell_type": "code",
   "execution_count": 12,
   "id": "7ba7dc70",
   "metadata": {},
   "outputs": [
    {
     "data": {
      "text/plain": [
       "array([[4.42897128],\n",
       "       [1.53564034]])"
      ]
     },
     "execution_count": 12,
     "metadata": {},
     "output_type": "execute_result"
    }
   ],
   "source": [
    "theta_best_svd, residuals, rank, s = np.linalg.lstsq(X_b, y, rcond=1e-6)\n",
    "theta_best_svd"
   ]
  },
  {
   "cell_type": "code",
   "execution_count": 13,
   "id": "9d30cdff",
   "metadata": {},
   "outputs": [
    {
     "data": {
      "text/plain": [
       "array([[4.42897128],\n",
       "       [1.53564034]])"
      ]
     },
     "execution_count": 13,
     "metadata": {},
     "output_type": "execute_result"
    }
   ],
   "source": [
    "np.linalg.pinv(X_b).dot(y)"
   ]
  }
 ],
 "metadata": {
  "kernelspec": {
   "display_name": "Python 3 (ipykernel)",
   "language": "python",
   "name": "python3"
  },
  "language_info": {
   "codemirror_mode": {
    "name": "ipython",
    "version": 3
   },
   "file_extension": ".py",
   "mimetype": "text/x-python",
   "name": "python",
   "nbconvert_exporter": "python",
   "pygments_lexer": "ipython3",
   "version": "3.10.0"
  }
 },
 "nbformat": 4,
 "nbformat_minor": 5
}
