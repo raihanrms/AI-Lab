{
 "cells": [
  {
   "cell_type": "code",
   "execution_count": 1,
   "id": "9b24ebf4",
   "metadata": {},
   "outputs": [],
   "source": [
    "import numpy as np\n",
    "import pandas as pd\n",
    "import matplotlib.pyplot as plt\n",
    "import sys\n",
    "import sklearn\n",
    "import os"
   ]
  },
  {
   "cell_type": "code",
   "execution_count": 2,
   "id": "1aa14a21",
   "metadata": {},
   "outputs": [],
   "source": [
    "# to make this notebook's output stable across runs\n",
    "np.random.seed(42)\n",
    "\n",
    "# To plot pretty figures\n",
    "import matplotlib as mpl\n",
    "import matplotlib.pyplot as plt\n",
    "mpl.rc('axes', labelsize=14)\n",
    "mpl.rc('xtick', labelsize=12)\n",
    "mpl.rc('ytick', labelsize=12)\n",
    "\n",
    "# Where to save the figures\n",
    "PROJECT_ROOT_DIR = \".\"\n",
    "CHAPTER_ID = \"training_linear_models\"\n",
    "IMAGES_PATH = os.path.join(PROJECT_ROOT_DIR, \"images\", CHAPTER_ID)\n",
    "os.makedirs(IMAGES_PATH, exist_ok=True)\n",
    "\n",
    "def save_fig(fig_id, tight_layout=True, fig_extension=\"png\", resolution=300):\n",
    "    path = os.path.join(IMAGES_PATH, fig_id + \".\" + fig_extension)\n",
    "    print(\"Saving figure\", fig_id)\n",
    "    if tight_layout:\n",
    "        plt.tight_layout()\n",
    "    plt.savefig(path, format=fig_extension, dpi=resolution)"
   ]
  },
  {
   "cell_type": "code",
   "execution_count": 3,
   "id": "4748feef",
   "metadata": {},
   "outputs": [
    {
     "name": "stdout",
     "output_type": "stream",
     "text": [
      "Enter the number of rows for X:30\n",
      "Enter the number of columns for X:1\n",
      "Enter the values for X: \n",
      "1.6\n",
      "2.0\n",
      "2.1\n",
      "2.5\n",
      "2.9\n",
      "3.5\n",
      "3.6\n",
      "3.7\n",
      "3.9\n",
      "4.3\n",
      "4.5\n",
      "4.5\n",
      "4.5\n",
      "4.6\n",
      "4.7\n",
      "5.1\n",
      "5.5\n",
      "5.8\n",
      "6.5\n",
      "6.5\n",
      "7.4\n",
      "7.8\n",
      "8.6\n",
      "8.9\n",
      "9.3\n",
      "9.5\n",
      "10.5\n",
      "10.9\n",
      "11.1\n",
      "12\n"
     ]
    }
   ],
   "source": [
    "XR = int(input(\"Enter the number of rows for X:\"))\n",
    "XC = int(input(\"Enter the number of columns for X:\"))\n",
    "\n",
    "X = []\n",
    "print(\"Enter the values for X: \")\n",
    "for i in range(XR):\n",
    "    a = []\n",
    "    for j in range(XC):\n",
    "        a.append(float(input()))\n",
    "    X.append(a)"
   ]
  },
  {
   "cell_type": "code",
   "execution_count": 4,
   "id": "8477a320",
   "metadata": {},
   "outputs": [
    {
     "name": "stdout",
     "output_type": "stream",
     "text": [
      "Enter the number of rows for y: 30\n",
      "Enter the number of columns for y: 1\n",
      "Enter the values for y: \n",
      "47\n",
      "54\n",
      "45\n",
      "51\n",
      "47\n",
      "62\n",
      "67\n",
      "56\n",
      "70\n",
      "63\n",
      "67\n",
      "59\n",
      "62\n",
      "64\n",
      "71\n",
      "74\n",
      "88\n",
      "86\n",
      "100\n",
      "99\n",
      "106\n",
      "107\n",
      "116\n",
      "114\n",
      "112\n",
      "119\n",
      "121\n",
      "130\n",
      "129\n",
      "128\n"
     ]
    }
   ],
   "source": [
    "YR = int(input(\"Enter the number of rows for y: \"))\n",
    "YC = int(input(\"Enter the number of columns for y: \"))\n",
    "\n",
    "y = []\n",
    "print(\"Enter the values for y: \")\n",
    "for i in range(YR):\n",
    "    b = []\n",
    "    for j in range(YC):\n",
    "        b.append(int(input()))\n",
    "    y.append(b)"
   ]
  },
  {
   "cell_type": "code",
   "execution_count": 5,
   "id": "b2b62ae3",
   "metadata": {
    "scrolled": false
   },
   "outputs": [
    {
     "name": "stdout",
     "output_type": "stream",
     "text": [
      "[[1.6], [2.0], [2.1], [2.5], [2.9], [3.5], [3.6], [3.7], [3.9], [4.3], [4.5], [4.5], [4.5], [4.6], [4.7], [5.1], [5.5], [5.8], [6.5], [6.5], [7.4], [7.8], [8.6], [8.9], [9.3], [9.5], [10.5], [10.9], [11.1], [12.0]]\n"
     ]
    }
   ],
   "source": [
    "print (X)"
   ]
  },
  {
   "cell_type": "code",
   "execution_count": 6,
   "id": "948bb0f2",
   "metadata": {},
   "outputs": [
    {
     "name": "stdout",
     "output_type": "stream",
     "text": [
      "[[47], [54], [45], [51], [47], [62], [67], [56], [70], [63], [67], [59], [62], [64], [71], [74], [88], [86], [100], [99], [106], [107], [116], [114], [112], [119], [121], [130], [129], [128]]\n"
     ]
    }
   ],
   "source": [
    "print (y)"
   ]
  },
  {
   "cell_type": "code",
   "execution_count": 7,
   "id": "2e4e36c5",
   "metadata": {},
   "outputs": [
    {
     "name": "stdout",
     "output_type": "stream",
     "text": [
      "Saving figure generated_data_plot\n"
     ]
    },
    {
     "data": {
      "image/png": "[encoded data removed]",
      "text/plain": [
       "<Figure size 432x288 with 1 Axes>"
      ]
     },
     "metadata": {
      "needs_background": "light"
     },
     "output_type": "display_data"
    }
   ],
   "source": [
    "plt.plot(X, y, \"b.\")\n",
    "plt.xlabel(\"$Experience$\", fontsize=10)\n",
    "plt.ylabel(\"$Salary$\", rotation=0, fontsize=10)\n",
    "plt.axis([0, 12, 0, 140])\n",
    "save_fig(\"generated_data_plot\")\n",
    "plt.show()"
   ]
  },
  {
   "cell_type": "code",
   "execution_count": 8,
   "id": "0d283428",
   "metadata": {},
   "outputs": [],
   "source": [
    "X_b = np.c_[np.ones((30, 1)), X]  # add x0 = 1 to each instance\n",
    "theta_best = np.linalg.inv(X_b.T.dot(X_b)).dot(X_b.T).dot(y)"
   ]
  },
  {
   "cell_type": "raw",
   "id": "796498da",
   "metadata": {},
   "source": [
    "# Store data in a dictionary with user input\n",
    "data = int(input(\"Enter number of rows: \"))\n",
    "\n",
    "DF={'Age': [],\n",
    "    'Salary': []}\n",
    "\n",
    "for i in range(0,data):\n",
    "    X = input(\"Enter X values : \").split()\n",
    "    y = input(\"Enter y values : \".format(X)).split()\n",
    "    df_x =  X[0]\n",
    "    df_y = y[0]\n",
    "    DF[df_x] = {df_y}\n",
    "\n",
    "# store it in a column\n",
    "df = pd.DataFrame(DF)\n",
    "\n",
    "Age = []\n",
    "DF['Age'] = Age\n",
    "\n",
    "for keys, values in college_data.items():\n",
    "  print(x,y)"
   ]
  },
  {
   "cell_type": "raw",
   "id": "0b45e4e2",
   "metadata": {},
   "source": [
    "DF"
   ]
  },
  {
   "cell_type": "raw",
   "id": "40a81c0a",
   "metadata": {},
   "source": [
    "# aggregates complete input into a list\n",
    "# flushes list to output\n",
    "def main(params, inputs, outputs):\n",
    "  \n",
    "    async def sponge(i0,i1):\n",
    "        mylists = [[],[]]\n",
    "        async for v in i0:\n",
    "            mylists[0].append(v)\n",
    "             \n",
    "        async for v in i1:\n",
    "            mylists[1].append(v)\n",
    "  \n",
    "        yield mylists\n",
    "  \n",
    "    async def flush(o):\n",
    "        mylists = yield\n",
    "        await o.asend(None) # prime o\n",
    "         \n",
    "         \n",
    "        for v in mylists[0]:\n",
    "            await o.asend(v)\n",
    "            for v2 in mylists[1]:\n",
    "                if v2[0] == v[0]:\n",
    "                    v[2] = v2[1]\n",
    "                    await o.asend(v)\n",
    " \n",
    "    o0 = outputs[0]\n",
    "      \n",
    "    return [ (sponge(inputs[0],inputs[1]), flush(o0)) ]"
   ]
  },
  {
   "cell_type": "code",
   "execution_count": 10,
   "id": "6a1b9591",
   "metadata": {},
   "outputs": [
    {
     "data": {
      "text/plain": [
       "array([[28.76309202],\n",
       "       [ 9.26027616]])"
      ]
     },
     "execution_count": 10,
     "metadata": {},
     "output_type": "execute_result"
    }
   ],
   "source": [
    "theta_best"
   ]
  },
  {
   "cell_type": "code",
   "execution_count": 11,
   "id": "4dc1761e",
   "metadata": {},
   "outputs": [
    {
     "data": {
      "text/plain": [
       "array([[28.76309202],\n",
       "       [47.28364434]])"
      ]
     },
     "execution_count": 11,
     "metadata": {},
     "output_type": "execute_result"
    }
   ],
   "source": [
    "X_new = np.array([[0], [2]])\n",
    "X_new_b = np.c_[np.ones((2, 1)), X_new]  # add x0 = 1 to each instance\n",
    "y_predict = X_new_b.dot(theta_best)\n",
    "y_predict"
   ]
  },
  {
   "cell_type": "code",
   "execution_count": 13,
   "id": "fd82e524",
   "metadata": {},
   "outputs": [
    {
     "name": "stdout",
     "output_type": "stream",
     "text": [
      "Saving figure linear_model_predictions_plot\n"
     ]
    },
    {
     "data": {
      "image/png": "[encoded data removed]",
      "text/plain": [
       "<Figure size 432x288 with 1 Axes>"
      ]
     },
     "metadata": {
      "needs_background": "light"
     },
     "output_type": "display_data"
    }
   ],
   "source": [
    "plt.plot(X_new, y_predict, \"r-\", linewidth=2, label=\"Predictions\")\n",
    "plt.plot(X, y, \"b.\")\n",
    "plt.xlabel(\"$x_1$\", fontsize=18)\n",
    "plt.ylabel(\"$y$\", rotation=0, fontsize=18)\n",
    "plt.legend(loc=\"upper left\", fontsize=14)\n",
    "plt.axis([0, 12, 0, 140])\n",
    "save_fig(\"linear_model_predictions_plot\")\n",
    "plt.show()"
   ]
  },
  {
   "cell_type": "code",
   "execution_count": null,
   "id": "8fcaac68",
   "metadata": {},
   "outputs": [],
   "source": []
  }
 ],
 "metadata": {
  "kernelspec": {
   "display_name": "Python 3 (ipykernel)",
   "language": "python",
   "name": "python3"
  },
  "language_info": {
   "codemirror_mode": {
    "name": "ipython",
    "version": 3
   },
   "file_extension": ".py",
   "mimetype": "text/x-python",
   "name": "python",
   "nbconvert_exporter": "python",
   "pygments_lexer": "ipython3",
   "version": "3.10.0"
  }
 },
 "nbformat": 4,
 "nbformat_minor": 5
}
