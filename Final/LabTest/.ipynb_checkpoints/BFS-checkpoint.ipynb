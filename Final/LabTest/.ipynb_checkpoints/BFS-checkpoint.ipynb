{
 "cells": [
  {
   "cell_type": "code",
   "execution_count": 1,
   "id": "c62058f3",
   "metadata": {},
   "outputs": [],
   "source": [
    "from collections import defaultdict"
   ]
  },
  {
   "cell_type": "code",
   "execution_count": 2,
   "id": "cabdc472",
   "metadata": {},
   "outputs": [],
   "source": [
    "class Graph:\n",
    "\n",
    "    def __init__(self,vert):\n",
    "        self.V = vert \n",
    "        self.V_org = vert\n",
    "        self.graph = defaultdict(list) \n",
    "\n",
    "    \n",
    "    def addEdge(self,u,v,w):\n",
    "        if w == 1:\n",
    "            self.graph[u].append(v)\n",
    "        else:\n",
    "            self.graph[u].append(self.V)\n",
    "            self.graph[self.V].append(v)\n",
    "            self.V = self.V + 1\n",
    "    \n",
    "    def printPath(self, parent, j):\n",
    "        pathLength = 1\n",
    "        if parent[j] == -1 and j < self.V_org :\n",
    "            print(j),\n",
    "            return 0 \n",
    "        l = self.printPath(parent , parent[j])\n",
    "        pathLength = l + pathLength\n",
    "\n",
    "        if j < self.V_org :\n",
    "            print(j),\n",
    "\n",
    "        return pathLength\n",
    "\n",
    "    def findShortestPath(self,src, dest):\n",
    "\n",
    "        visited =[False]*(self.V)\n",
    "        parent =[-1]*(self.V)\n",
    "\n",
    "        queue=[]\n",
    "\n",
    "        queue.append(src)\n",
    "        visited[src] = True\n",
    "\n",
    "        while queue :\n",
    "            s = queue.pop(0)\n",
    "            \n",
    "            if s == dest:\n",
    "                return self.printPath(parent, s)\n",
    "            \n",
    "            for i in self.graph[s]:\n",
    "                if visited[i] == False:\n",
    "                    queue.append(i)\n",
    "                    visited[i] = True\n",
    "                    parent[i] = s\n"
   ]
  },
  {
   "cell_type": "code",
   "execution_count": 46,
   "id": "ba050382",
   "metadata": {},
   "outputs": [],
   "source": [
    "g = Graph(5)\n",
    "g.addEdge(0, 1, 2)\n",
    "g.addEdge(0, 2, 2)\n",
    "g.addEdge(1, 2, 1)\n",
    "g.addEdge(1, 3, 1)\n",
    "g.addEdge(2, 0, 1)\n",
    "g.addEdge(2, 2, 1)\n",
    "g.addEdge(4, 4, 2)\n",
    "g.addEdge(5, 0, 1)\n",
    "g.addEdge(5, 5, 2)"
   ]
  },
  {
   "cell_type": "code",
   "execution_count": null,
   "id": "e53220e3",
   "metadata": {},
   "outputs": [],
   "source": [
    "src = int(input(\"Enter Source node: \"))"
   ]
  },
  {
   "cell_type": "code",
   "execution_count": 44,
   "id": "443796d8",
   "metadata": {},
   "outputs": [
    {
     "name": "stdout",
     "output_type": "stream",
     "text": [
      "Enter Destination node: 3\n"
     ]
    }
   ],
   "source": [
    "dest = int(input(\"Enter Destination node: \"))"
   ]
  },
  {
   "cell_type": "code",
   "execution_count": 45,
   "id": "bd23aa0d",
   "metadata": {},
   "outputs": [
    {
     "name": "stdout",
     "output_type": "stream",
     "text": [
      "Shortest Path : 0 and 3 is \n",
      "0\n",
      "1\n",
      "3\n",
      "\n",
      "Shortest Distance from 0 to 3 is 3 \n"
     ]
    }
   ],
   "source": [
    "print (\"Shortest Path : %d and %d is \" %(src, dest)),\n",
    "l = g.findShortestPath(src, dest)\n",
    "print (\"\\nShortest Distance from %d to %d is %d \" %(src, dest, l))"
   ]
  },
  {
   "cell_type": "code",
   "execution_count": null,
   "id": "e41a5d14",
   "metadata": {},
   "outputs": [],
   "source": []
  }
 ],
 "metadata": {
  "kernelspec": {
   "display_name": "Python 3 (ipykernel)",
   "language": "python",
   "name": "python3"
  },
  "language_info": {
   "codemirror_mode": {
    "name": "ipython",
    "version": 3
   },
   "file_extension": ".py",
   "mimetype": "text/x-python",
   "name": "python",
   "nbconvert_exporter": "python",
   "pygments_lexer": "ipython3",
   "version": "3.10.0"
  }
 },
 "nbformat": 4,
 "nbformat_minor": 5
}
