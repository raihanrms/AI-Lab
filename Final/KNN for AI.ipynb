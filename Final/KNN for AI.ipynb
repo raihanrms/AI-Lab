{
 "cells": [
  {
   "cell_type": "code",
   "execution_count": 1,
   "id": "b86d58a7",
   "metadata": {},
   "outputs": [],
   "source": [
    "import numpy as np\n",
    "import matplotlib.pyplot as plt\n",
    "import pandas as pd\n",
    "import sys\n",
    "import sklearn\n",
    "import numpy as np\n",
    "import os"
   ]
  },
  {
   "cell_type": "code",
   "execution_count": 2,
   "id": "cb3d6b21",
   "metadata": {},
   "outputs": [],
   "source": [
    "# to make this notebook's output stable across runs\n",
    "np.random.seed(42)\n",
    "\n",
    "# To plot pretty figures\n",
    "import matplotlib as mpl\n",
    "import matplotlib.pyplot as plt\n",
    "mpl.rc('axes', labelsize=14)\n",
    "mpl.rc('xtick', labelsize=12)\n",
    "mpl.rc('ytick', labelsize=12)"
   ]
  },
  {
   "cell_type": "markdown",
   "id": "f87dd73e",
   "metadata": {},
   "source": [
    "#### Take X with user input"
   ]
  },
  {
   "cell_type": "code",
   "execution_count": null,
   "id": "eaddb21c",
   "metadata": {},
   "outputs": [],
   "source": [
    "XR = int(input(\"Enter the number of rows for X:\"))\n",
    "XC = int(input(\"Enter the number of columns for X:\"))\n",
    "\n",
    "X = []\n",
    "print(\"Enter the values for X: \")\n",
    "for i in range(XR):\n",
    "    a = []\n",
    "    for j in range(XC):\n",
    "        a.append(int(input()))\n",
    "    X.append(a)"
   ]
  },
  {
   "cell_type": "markdown",
   "id": "97954732",
   "metadata": {},
   "source": [
    "#### Take y with user input"
   ]
  },
  {
   "cell_type": "raw",
   "id": "8d640fb6",
   "metadata": {},
   "source": [
    "YR = int(input(\"Enter the number of rows for y: \"))\n",
    "YC = int(input(\"Enter the number of columns for y: \"))\n",
    "\n",
    "y = []\n",
    "print(\"Enter the values for y: \")\n",
    "for i in range(YR):\n",
    "    b = []\n",
    "    for j in range(YC):\n",
    "        b.append(int(input()))\n",
    "    y.append(b)"
   ]
  },
  {
   "cell_type": "code",
   "execution_count": 1,
   "id": "79389557",
   "metadata": {},
   "outputs": [],
   "source": [
    "# for testing\n",
    "import numpy as np\n",
    "\n",
    "X = 5 * np.random.rand(30, 1)\n",
    "y = 2 + 2 * X + np.random.randn(30, 1)"
   ]
  },
  {
   "cell_type": "markdown",
   "id": "6c165e5f",
   "metadata": {},
   "source": [
    "#### Plot the graph"
   ]
  },
  {
   "cell_type": "code",
   "execution_count": 11,
   "id": "1311b175",
   "metadata": {},
   "outputs": [
    {
     "data": {
      "image/png": "[encoded data removed]",
      "text/plain": [
       "<Figure size 432x288 with 1 Axes>"
      ]
     },
     "metadata": {
      "needs_background": "light"
     },
     "output_type": "display_data"
    }
   ],
   "source": [
    "plt.plot(X, y, \"b.\")\n",
    "plt.xlabel(\"$x_1$\", fontsize=18)\n",
    "plt.ylabel(\"$y$\", rotation=0, fontsize=18)\n",
    "plt.axis([0, 2, 0, 10])\n",
    "plt.show()"
   ]
  },
  {
   "cell_type": "code",
   "execution_count": 12,
   "id": "42ec01e9",
   "metadata": {},
   "outputs": [],
   "source": [
    "X_b = np.c_[np.ones((30, 1)), X]  # add x0 = 1 to each instance\n",
    "theta_best = np.linalg.inv(X_b.T.dot(X_b)).dot(X_b.T).dot(y)"
   ]
  },
  {
   "cell_type": "code",
   "execution_count": 30,
   "id": "9c6f3cf4",
   "metadata": {},
   "outputs": [
    {
     "ename": "NameError",
     "evalue": "name 'dot' is not defined",
     "output_type": "error",
     "traceback": [
      "\u001b[1;31m---------------------------------------------------------------------------\u001b[0m",
      "\u001b[1;31mNameError\u001b[0m                                 Traceback (most recent call last)",
      "\u001b[1;32m~\\AppData\\Local\\Temp/ipykernel_11352/3598826558.py\u001b[0m in \u001b[0;36m<module>\u001b[1;34m\u001b[0m\n\u001b[1;32m----> 1\u001b[1;33m \u001b[0mdot\u001b[0m\u001b[1;33m(\u001b[0m\u001b[0my\u001b[0m\u001b[1;33m)\u001b[0m\u001b[1;33m\u001b[0m\u001b[1;33m\u001b[0m\u001b[0m\n\u001b[0m",
      "\u001b[1;31mNameError\u001b[0m: name 'dot' is not defined"
     ]
    }
   ],
   "source": [
    "dot(y)"
   ]
  },
  {
   "cell_type": "code",
   "execution_count": 29,
   "id": "e3b776fe",
   "metadata": {},
   "outputs": [
    {
     "data": {
      "text/plain": [
       "array([[1.        , 1.62699849],\n",
       "       [1.        , 3.73245703],\n",
       "       [1.        , 3.2481645 ],\n",
       "       [1.        , 4.24611705],\n",
       "       [1.        , 3.28806446],\n",
       "       [1.        , 2.84154302],\n",
       "       [1.        , 0.46837384],\n",
       "       [1.        , 1.83857902],\n",
       "       [1.        , 1.32601184],\n",
       "       [1.        , 1.21994822],\n",
       "       [1.        , 4.86505277],\n",
       "       [1.        , 1.96548862],\n",
       "       [1.        , 4.46023278],\n",
       "       [1.        , 3.15569313],\n",
       "       [1.        , 3.97405652],\n",
       "       [1.        , 2.51318547],\n",
       "       [1.        , 2.88451942],\n",
       "       [1.        , 2.46258847],\n",
       "       [1.        , 0.97621494],\n",
       "       [1.        , 3.61226058],\n",
       "       [1.        , 1.40386181],\n",
       "       [1.        , 0.12157983],\n",
       "       [1.        , 3.22736148],\n",
       "       [1.        , 0.8855534 ],\n",
       "       [1.        , 4.70229292],\n",
       "       [1.        , 4.76964289],\n",
       "       [1.        , 4.57432195],\n",
       "       [1.        , 1.8507935 ],\n",
       "       [1.        , 0.07728308],\n",
       "       [1.        , 4.64159281]])"
      ]
     },
     "execution_count": 29,
     "metadata": {},
     "output_type": "execute_result"
    }
   ],
   "source": [
    "X_b"
   ]
  },
  {
   "cell_type": "code",
   "execution_count": 13,
   "id": "ad87f934",
   "metadata": {},
   "outputs": [
    {
     "data": {
      "text/plain": [
       "array([[2.45563797],\n",
       "       [1.90592313]])"
      ]
     },
     "execution_count": 13,
     "metadata": {},
     "output_type": "execute_result"
    }
   ],
   "source": [
    "theta_best"
   ]
  },
  {
   "cell_type": "code",
   "execution_count": 14,
   "id": "e3816ecb",
   "metadata": {},
   "outputs": [
    {
     "data": {
      "text/plain": [
       "array([[2.45563797],\n",
       "       [6.26748423]])"
      ]
     },
     "execution_count": 14,
     "metadata": {},
     "output_type": "execute_result"
    }
   ],
   "source": [
    "X_new = np.array([[0], [2]])\n",
    "X_new_b = np.c_[np.ones((2, 1)), X_new]  # add x0 = 1 to each instance\n",
    "y_predict = X_new_b.dot(theta_best)\n",
    "y_predict"
   ]
  },
  {
   "cell_type": "code",
   "execution_count": 16,
   "id": "5451a648",
   "metadata": {},
   "outputs": [
    {
     "data": {
      "image/png": "[encoded data removed]",
      "text/plain": [
       "<Figure size 432x288 with 1 Axes>"
      ]
     },
     "metadata": {
      "needs_background": "light"
     },
     "output_type": "display_data"
    }
   ],
   "source": [
    "plt.plot(X_new, y_predict, \"r-\", linewidth=2, label=\"Predictions\")\n",
    "plt.plot(X, y, \"b.\")\n",
    "plt.xlabel(\"$x_1$\", fontsize=18)\n",
    "plt.ylabel(\"$y$\", rotation=0, fontsize=18)\n",
    "plt.legend(loc=\"upper left\", fontsize=14)\n",
    "plt.axis([0, 2, 0, 10])\n",
    "plt.show()"
   ]
  },
  {
   "cell_type": "code",
   "execution_count": null,
   "id": "a921bfff",
   "metadata": {},
   "outputs": [],
   "source": [
    "from sklearn.linear_model import LinearRegression\n",
    "\n",
    "lin_reg = LinearRegression()\n",
    "lin_reg.fit(X, y)\n",
    "lin_reg.intercept_, lin_reg.coef_"
   ]
  },
  {
   "cell_type": "code",
   "execution_count": 26,
   "id": "c4363ab0",
   "metadata": {},
   "outputs": [
    {
     "data": {
      "text/plain": [
       "array([[2.45563797],\n",
       "       [6.26748423]])"
      ]
     },
     "execution_count": 26,
     "metadata": {},
     "output_type": "execute_result"
    }
   ],
   "source": [
    "lin_reg.predict(X_new)"
   ]
  },
  {
   "cell_type": "code",
   "execution_count": 27,
   "id": "7ba7dc70",
   "metadata": {},
   "outputs": [
    {
     "data": {
      "text/plain": [
       "array([[2.45563797],\n",
       "       [1.90592313]])"
      ]
     },
     "execution_count": 27,
     "metadata": {},
     "output_type": "execute_result"
    }
   ],
   "source": [
    "theta_best_svd, residuals, rank, s = np.linalg.lstsq(X_b, y, rcond=1e-6)\n",
    "theta_best_svd"
   ]
  },
  {
   "cell_type": "code",
   "execution_count": 28,
   "id": "9d30cdff",
   "metadata": {},
   "outputs": [
    {
     "data": {
      "text/plain": [
       "array([[2.45563797],\n",
       "       [1.90592313]])"
      ]
     },
     "execution_count": 28,
     "metadata": {},
     "output_type": "execute_result"
    }
   ],
   "source": [
    "np.linalg.pinv(X_b).dot(y)"
   ]
  },
  {
   "cell_type": "markdown",
   "id": "e72522f6",
   "metadata": {},
   "source": [
    "### KNN Classification"
   ]
  },
  {
   "cell_type": "code",
   "execution_count": 45,
   "id": "0f4dd1d3",
   "metadata": {},
   "outputs": [
    {
     "name": "stdout",
     "output_type": "stream",
     "text": [
      "[[0.74908024]\n",
      " [1.90142861]\n",
      " [1.46398788]\n",
      " [1.19731697]\n",
      " [0.31203728]\n",
      " [0.31198904]\n",
      " [0.11616722]\n",
      " [1.73235229]\n",
      " [1.20223002]\n",
      " [1.41614516]\n",
      " [0.04116899]\n",
      " [1.9398197 ]\n",
      " [1.66488528]\n",
      " [0.42467822]\n",
      " [0.36364993]\n",
      " [0.36680902]\n",
      " [0.60848449]\n",
      " [1.04951286]\n",
      " [0.86389004]\n",
      " [0.58245828]\n",
      " [1.22370579]\n",
      " [0.27898772]\n",
      " [0.5842893 ]\n",
      " [0.73272369]\n",
      " [0.91213997]\n",
      " [1.57035192]\n",
      " [0.39934756]\n",
      " [1.02846888]\n",
      " [1.18482914]\n",
      " [0.09290083]]\n"
     ]
    }
   ],
   "source": [
    "print (X)"
   ]
  },
  {
   "cell_type": "code",
   "execution_count": 2,
   "id": "7b5b242e",
   "metadata": {},
   "outputs": [
    {
     "name": "stdout",
     "output_type": "stream",
     "text": [
      "[[1.40296987]\n",
      " [4.80192938]\n",
      " [1.01431819]\n",
      " [3.19347418]\n",
      " [0.2754361 ]\n",
      " [3.14453787]\n",
      " [3.66567458]\n",
      " [3.43072623]\n",
      " [2.99125009]\n",
      " [0.28075446]\n",
      " [2.77786686]\n",
      " [2.19017402]\n",
      " [2.38123573]\n",
      " [4.65111194]\n",
      " [2.31984429]\n",
      " [4.4431542 ]\n",
      " [0.82066463]\n",
      " [2.33484981]\n",
      " [2.45385579]\n",
      " [2.72766553]\n",
      " [4.36416763]\n",
      " [1.08400401]\n",
      " [4.327174  ]\n",
      " [0.86874503]\n",
      " [2.6180745 ]\n",
      " [0.49419418]\n",
      " [0.97291808]\n",
      " [1.37106815]\n",
      " [0.02379549]\n",
      " [1.16574452]]\n"
     ]
    }
   ],
   "source": [
    "print(X)"
   ]
  },
  {
   "cell_type": "code",
   "execution_count": null,
   "id": "fd984924",
   "metadata": {},
   "outputs": [],
   "source": []
  }
 ],
 "metadata": {
  "kernelspec": {
   "display_name": "Python 3 (ipykernel)",
   "language": "python",
   "name": "python3"
  },
  "language_info": {
   "codemirror_mode": {
    "name": "ipython",
    "version": 3
   },
   "file_extension": ".py",
   "mimetype": "text/x-python",
   "name": "python",
   "nbconvert_exporter": "python",
   "pygments_lexer": "ipython3",
   "version": "3.10.0"
  }
 },
 "nbformat": 4,
 "nbformat_minor": 5
}
