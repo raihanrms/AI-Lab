{
 "cells": [
  {
   "cell_type": "code",
   "execution_count": 1,
   "id": "b86d58a7",
   "metadata": {},
   "outputs": [],
   "source": [
    "###Hands on machine learning with scikit learn and tensorflow\n",
    "##Pretty much this chapter is just like the machine learning \n",
    "#stanford coursera course week 1. Will love to see the parallels.\n",
    "\n",
    "#normal equation check page 108 for more information.\n",
    "import numpy as np\n",
    "import matplotlib.pyplot as plt "
   ]
  },
  {
   "cell_type": "code",
   "execution_count": 2,
   "id": "cb3d6b21",
   "metadata": {},
   "outputs": [],
   "source": [
    "X = 2 * np.random.rand(100, 1)\n",
    "y = 4 + 3 * X + np.random.randn(100, 1)"
   ]
  },
  {
   "cell_type": "code",
   "execution_count": 3,
   "id": "1a22d24c",
   "metadata": {},
   "outputs": [
    {
     "name": "stdout",
     "output_type": "stream",
     "text": [
      "[[3.96059428]\n",
      " [3.24774582]]\n"
     ]
    }
   ],
   "source": [
    "#Computing theta_hat with the normal equation and the preceeding\n",
    "#values.\n",
    "#In addition, the function used to generate the data is called \n",
    "#Gaussian noise.\n",
    "x_b = np.c_[np.ones((100, 1)), X] #add x0 = 1 to each instance\n",
    "theta_best = np.linalg.inv(x_b.T.dot(x_b)).dot(x_b.T).dot(y)\n",
    "print(theta_best)"
   ]
  },
  {
   "cell_type": "code",
   "execution_count": 4,
   "id": "b6c24645",
   "metadata": {},
   "outputs": [
    {
     "name": "stdout",
     "output_type": "stream",
     "text": [
      "[[ 3.96059428]\n",
      " [10.45608592]]\n"
     ]
    }
   ],
   "source": [
    "#Now we can make predictions using theta_hat:\n",
    "X_new = np.array([[0], [2]])\n",
    "X_new_b = np.c_[np.ones((2, 1)), X_new] # add x0 = 1 to each instance.\n",
    "y_predict = X_new_b.dot(theta_best)\n",
    "print(y_predict)"
   ]
  },
  {
   "cell_type": "code",
   "execution_count": 5,
   "id": "79389557",
   "metadata": {},
   "outputs": [
    {
     "name": "stdout",
     "output_type": "stream",
     "text": [
      "[3.96059428] [[3.24774582]]\n",
      "[[ 3.96059428]\n",
      " [10.45608592]]\n"
     ]
    }
   ],
   "source": [
    "##the following code using linear regression scikit learn:\n",
    "from sklearn.linear_model import LinearRegression \n",
    "lin_reg = LinearRegression()\n",
    "lin_reg.fit(X, y)\n",
    "print(lin_reg.intercept_, lin_reg.coef_)\n",
    "print(lin_reg.predict(X_new))"
   ]
  },
  {
   "cell_type": "markdown",
   "id": "848a93e1",
   "metadata": {},
   "source": [
    "#### Gradient Descent\n",
    "#(interesting note) The MSE cost function for a linear regression\n",
    "#is a convex function  which means there are no local minimas there\n",
    "#is only a global minima.\n",
    "\n",
    "##Batch gradient descent:\n",
    "#Neat the author is talking about partial derivatives and the cost \n",
    "#function technique used by the standford coursera class. very cool.\n",
    "#batch gradient descent uses the entirety of the train set hence \n",
    "#the name. It is better at scaling to datasets with a hight amount \n",
    "#of features than the normal equation. \n",
    "\n",
    "#Using different learning rates. the author and the coursera lecturer\n",
    "#was correct learning rate is important for computational speed \n",
    "#and global minimum convergence."
   ]
  },
  {
   "cell_type": "code",
   "execution_count": 7,
   "id": "42ec01e9",
   "metadata": {},
   "outputs": [
    {
     "data": {
      "text/plain": [
       "<matplotlib.collections.PathCollection at 0x1e51b69beb0>"
      ]
     },
     "execution_count": 7,
     "metadata": {},
     "output_type": "execute_result"
    },
    {
     "data": {
      "image/png": "[encoded data removed]",
      "text/plain": [
       "<Figure size 432x288 with 1 Axes>"
      ]
     },
     "metadata": {
      "needs_background": "light"
     },
     "output_type": "display_data"
    }
   ],
   "source": [
    "eta = 0.1 #name of the learning rate symbol.\n",
    "n_iterations = 1000\n",
    "m = 100\n",
    "plt.scatter(X, y)"
   ]
  },
  {
   "cell_type": "code",
   "execution_count": 8,
   "id": "ad87f934",
   "metadata": {},
   "outputs": [
    {
     "data": {
      "image/png": "[encoded data removed]",
      "text/plain": [
       "<Figure size 432x288 with 1 Axes>"
      ]
     },
     "metadata": {
      "needs_background": "light"
     },
     "output_type": "display_data"
    }
   ],
   "source": [
    "theta = np.random.randn(2,1) #random initialization \n",
    "for iteration in range(n_iterations):\n",
    "    gradients = 2/m * x_b.T.dot(x_b.dot(theta) - y)\n",
    "    theta = theta - eta * gradients\n",
    "    x_new = np.array([[0], [2]])\n",
    "    X_new_b = np.c_[np.ones((2, 1)), X_new] \n",
    "    y_predict = X_new_b.dot(theta)\n",
    "    plt.plot(x_new, y_predict, \"r-\") "
   ]
  },
  {
   "cell_type": "code",
   "execution_count": 11,
   "id": "e3816ecb",
   "metadata": {},
   "outputs": [
    {
     "name": "stdout",
     "output_type": "stream",
     "text": [
      "[[3.96059428]\n",
      " [3.24774582]]\n"
     ]
    }
   ],
   "source": [
    "print(theta)#this algorithm obtained the same values."
   ]
  },
  {
   "cell_type": "markdown",
   "id": "9d7eda49",
   "metadata": {},
   "source": [
    "##Stochastic gradient descent:\n",
    "#Unlike batch gradient descent, stochastic gradient descent picks \n",
    "#random instance in the training set at every step and computes \n",
    "#the gradients based only on that single instance. \n",
    "#Irregular minimization of the cost functions. "
   ]
  },
  {
   "cell_type": "code",
   "execution_count": 12,
   "id": "a921bfff",
   "metadata": {},
   "outputs": [],
   "source": [
    "#Fixes for this problem are simulated annealing (or rather setting\n",
    "#a learning schedule that descreases over time).\n",
    "n_epochs = 50 \n",
    "t0, t1 = 5, 50# learning schedule hyperparameters."
   ]
  },
  {
   "cell_type": "code",
   "execution_count": 13,
   "id": "c4363ab0",
   "metadata": {},
   "outputs": [
    {
     "data": {
      "text/plain": [
       "<matplotlib.collections.PathCollection at 0x1e51cc4f700>"
      ]
     },
     "execution_count": 13,
     "metadata": {},
     "output_type": "execute_result"
    },
    {
     "data": {
      "image/png": "[encoded data removed]",
      "text/plain": [
       "<Figure size 432x288 with 1 Axes>"
      ]
     },
     "metadata": {
      "needs_background": "light"
     },
     "output_type": "display_data"
    }
   ],
   "source": [
    "def learning_schedule(t):\n",
    "    return t0 / (t + t1)\n",
    "\n",
    "theta = np.random.randn(2,1) # random initialization\n",
    "plt.scatter(X, y)"
   ]
  },
  {
   "cell_type": "code",
   "execution_count": 14,
   "id": "7ba7dc70",
   "metadata": {},
   "outputs": [
    {
     "data": {
      "image/png": "[encoded data removed]",
      "text/plain": [
       "<Figure size 432x288 with 1 Axes>"
      ]
     },
     "metadata": {
      "needs_background": "light"
     },
     "output_type": "display_data"
    }
   ],
   "source": [
    "for epoch in range(n_epochs):\n",
    "    for i in range(m):\n",
    "        random_index = np.random.randint(m)\n",
    "        xi = x_b[random_index:random_index+1]\n",
    "        yi = y[random_index:random_index+1]\n",
    "        gradients = 2 * xi.T.dot(xi.dot(theta) - yi)\n",
    "        eta = learning_schedule(epoch *m + i)\n",
    "        theta = theta - eta * gradients\n",
    "\n",
    "        #The following commands are used to plot the \n",
    "        #number of iterations on a pyplot \n",
    "        x_new = np.array([[0], [2]])\n",
    "        X_new_b = np.c_[np.ones((2, 1)), X_new] \n",
    "        y_predict = X_new_b.dot(theta)\n",
    "        plt.plot(x_new, y_predict, \"b-\")\n",
    "plt.show()"
   ]
  },
  {
   "cell_type": "code",
   "execution_count": 13,
   "id": "9d30cdff",
   "metadata": {},
   "outputs": [
    {
     "data": {
      "text/plain": [
       "array([[4.42897128],\n",
       "       [1.53564034]])"
      ]
     },
     "execution_count": 13,
     "metadata": {},
     "output_type": "execute_result"
    }
   ],
   "source": [
    "np.linalg.pinv(X_b).dot(y)"
   ]
  }
 ],
 "metadata": {
  "kernelspec": {
   "display_name": "Python 3 (ipykernel)",
   "language": "python",
   "name": "python3"
  },
  "language_info": {
   "codemirror_mode": {
    "name": "ipython",
    "version": 3
   },
   "file_extension": ".py",
   "mimetype": "text/x-python",
   "name": "python",
   "nbconvert_exporter": "python",
   "pygments_lexer": "ipython3",
   "version": "3.10.0"
  }
 },
 "nbformat": 4,
 "nbformat_minor": 5
}
